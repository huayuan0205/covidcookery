{
 "cells": [
  {
   "cell_type": "code",
   "execution_count": 1,
   "metadata": {},
   "outputs": [],
   "source": [
    "import pandas as pd\n",
    "import numpy as np"
   ]
  },
  {
   "cell_type": "code",
   "execution_count": 2,
   "metadata": {},
   "outputs": [],
   "source": [
    "df = pd.read_excel(\"curated food data.xlsx\")\n",
    "df['date'] = pd.to_datetime(df['date']) # set datetime"
   ]
  },
  {
   "cell_type": "code",
   "execution_count": 3,
   "metadata": {},
   "outputs": [],
   "source": [
    "# combine comments url with curated food data\n",
    "\n",
    "df_cook = pd.read_csv(\"covidcookery.csv\")\n",
    "df_cook_2 = df_cook[[\"image url\", \"comments url\"]]\n",
    "df_cook_2 = df_cook_2.drop_duplicates()\n",
    "df = pd.merge(df, df_cook_2, left_on=\"image url\", right_on=\"image url\")"
   ]
  },
  {
   "cell_type": "code",
   "execution_count": 4,
   "metadata": {},
   "outputs": [],
   "source": [
    "# flattern columns that contain keywords and append together\n",
    "\n",
    "all_keyword = pd.DataFrame(columns=[\"date\",\"title\",\"image url\", \"comments url\",\"up votes\",\"keyword\"])\n",
    "for columns in df.loc[:,\"A\":\"N\"]: # loop through keywords column and append all keywords in one column\n",
    "    n = \"\".join(columns)\n",
    "    keyword = df[[\"date\",\"title\",\"image url\",\"comments url\",\"up votes\",n]]\n",
    "    keyword = keyword[keyword[n].notna()]\n",
    "    keyword = keyword.rename(columns={n:\"keyword\"})\n",
    "    all_keyword = all_keyword.append(keyword)"
   ]
  },
  {
   "cell_type": "code",
   "execution_count": 5,
   "metadata": {},
   "outputs": [
    {
     "name": "stderr",
     "output_type": "stream",
     "text": [
      "C:\\Users\\liuho\\anaconda3\\lib\\site-packages\\ipykernel_launcher.py:11: SettingWithCopyWarning: \n",
      "A value is trying to be set on a copy of a slice from a DataFrame.\n",
      "Try using .loc[row_indexer,col_indexer] = value instead\n",
      "\n",
      "See the caveats in the documentation: https://pandas.pydata.org/pandas-docs/stable/user_guide/indexing.html#returning-a-view-versus-a-copy\n",
      "  # This is added back by InteractiveShellApp.init_path()\n",
      "C:\\Users\\liuho\\anaconda3\\lib\\site-packages\\ipykernel_launcher.py:12: SettingWithCopyWarning: \n",
      "A value is trying to be set on a copy of a slice from a DataFrame.\n",
      "Try using .loc[row_indexer,col_indexer] = value instead\n",
      "\n",
      "See the caveats in the documentation: https://pandas.pydata.org/pandas-docs/stable/user_guide/indexing.html#returning-a-view-versus-a-copy\n",
      "  if sys.path[0] == '':\n"
     ]
    }
   ],
   "source": [
    "# create network nodes, set title image and keyword as separated nodes\n",
    "\n",
    "nodes = all_keyword[\"title\"].append(all_keyword[\"keyword\"])\n",
    "df_nodes = pd.DataFrame(nodes, columns=['name'])\n",
    "df_nodes = df_nodes.assign(id=(df_nodes[\"name\"]).astype('category').cat.codes) # assign unique id for each nodes\n",
    "\n",
    "# based on nodes, set network edges\n",
    "\n",
    "id_dict = dict(zip(df_nodes[\"name\"],df_nodes[\"id\"])) # map id to title and keyword\n",
    "df_edges = all_keyword[[\"date\",\"title\",\"keyword\",\"image url\",\"comments url\",\"up votes\"]]\n",
    "df_edges[\"id_title\"] = df_edges[\"title\"].map(id_dict)\n",
    "df_edges[\"id_keyword\"] = df_edges[\"keyword\"].map(id_dict)"
   ]
  },
  {
   "cell_type": "code",
   "execution_count": 7,
   "metadata": {},
   "outputs": [],
   "source": [
    "# filter data by date range\n",
    "\n",
    "mask = (df['date'] >= \"2020-11-1\") & (df['date'] <= \"2020-11-15\")\n",
    "df_nodes = df_nodes.loc[mask]\n",
    "df_edges = df_edges.loc[mask]"
   ]
  },
  {
   "cell_type": "code",
   "execution_count": 8,
   "metadata": {},
   "outputs": [
    {
     "name": "stderr",
     "output_type": "stream",
     "text": [
      "C:\\Users\\liuho\\anaconda3\\lib\\site-packages\\ipykernel_launcher.py:3: SettingWithCopyWarning: \n",
      "A value is trying to be set on a copy of a slice from a DataFrame.\n",
      "Try using .loc[row_indexer,col_indexer] = value instead\n",
      "\n",
      "See the caveats in the documentation: https://pandas.pydata.org/pandas-docs/stable/user_guide/indexing.html#returning-a-view-versus-a-copy\n",
      "  This is separate from the ipykernel package so we can avoid doing imports until\n",
      "C:\\Users\\liuho\\anaconda3\\lib\\site-packages\\ipykernel_launcher.py:4: SettingWithCopyWarning: \n",
      "A value is trying to be set on a copy of a slice from a DataFrame.\n",
      "Try using .loc[row_indexer,col_indexer] = value instead\n",
      "\n",
      "See the caveats in the documentation: https://pandas.pydata.org/pandas-docs/stable/user_guide/indexing.html#returning-a-view-versus-a-copy\n",
      "  after removing the cwd from sys.path.\n"
     ]
    }
   ],
   "source": [
    "# add nodes with unique id with date\n",
    "\n",
    "df_nodes[\"rand\"] = \"NOV1101\"\n",
    "df_nodes['id'] = df_nodes[\"rand\"] + df_nodes['id'].astype(str)\n",
    "df_edges[\"rand\"] = \"NOV1101\"\n",
    "df_edges[\"id_title\"] = df_edges[\"rand\"].astype(str) + df_edges[\"id_title\"].astype(str)\n",
    "df_edges[\"id_keyword\"] = df_edges[\"rand\"].astype(str) + df_edges[\"id_keyword\"].astype(str)"
   ]
  },
  {
   "cell_type": "code",
   "execution_count": 11,
   "metadata": {},
   "outputs": [],
   "source": [
    "# build network graph\n",
    "\n",
    "node = df_nodes[\"id\"]\n",
    "edge = [tuple(x) for x in df_edges[[\"id_title\",\"id_keyword\"]].to_numpy()]\n",
    "\n",
    "import networkx as nx\n",
    "G = nx.Graph()\n",
    "G.add_nodes_from(node)\n",
    "G.add_edges_from(edge)"
   ]
  },
  {
   "cell_type": "code",
   "execution_count": 12,
   "metadata": {},
   "outputs": [],
   "source": [
    "# set node and edge attributes\n",
    "\n",
    "img_dict = dict(zip(df_edges[\"id_title\"],df_edges[\"image url\"]))\n",
    "comment_dict = dict(zip(df_edges[\"id_title\"],df_edges[\"comments url\"]))\n",
    "title_dict = dict(zip(df_edges[\"id_title\"],df_edges[\"title\"]))\n",
    "vote_dict = dict(zip(df_edges[\"id_title\"],df_edges[\"up votes\"]))\n",
    "keyword_dict = dict(zip(df_edges[\"id_keyword\"],df_edges[\"keyword\"]))\n",
    "nx.set_node_attributes(G, img_dict, 'img')\n",
    "nx.set_node_attributes(G, comment_dict, 'comment')\n",
    "nx.set_node_attributes(G, vote_dict, 'vote')\n",
    "nx.set_node_attributes(G, title_dict, 'title')\n",
    "nx.set_node_attributes(G, keyword_dict, 'keyword')\n",
    "\n",
    "degree_dict = dict(G.degree(G.nodes()))\n",
    "nx.set_node_attributes(G, degree_dict, 'degree')\n",
    "\n",
    "df_edges[\"date\"] = df_edges[\"date\"].dt.strftime('%Y,%m,%d')\n",
    "date_dict = dict(zip(df_edges[\"id_title\"],df_edges[\"date\"]))\n",
    "nx.set_node_attributes(G, date_dict, 'time')"
   ]
  },
  {
   "cell_type": "code",
   "execution_count": 13,
   "metadata": {},
   "outputs": [],
   "source": [
    "# write to graphnetwork file\n",
    "\n",
    "nx.write_graphml(G, \"food_network_11_1-11_15.graphml\")"
   ]
  }
 ],
 "metadata": {
  "kernelspec": {
   "display_name": "Python 3",
   "language": "python",
   "name": "python3"
  },
  "language_info": {
   "codemirror_mode": {
    "name": "ipython",
    "version": 3
   },
   "file_extension": ".py",
   "mimetype": "text/x-python",
   "name": "python",
   "nbconvert_exporter": "python",
   "pygments_lexer": "ipython3",
   "version": "3.7.6"
  }
 },
 "nbformat": 4,
 "nbformat_minor": 4
}
